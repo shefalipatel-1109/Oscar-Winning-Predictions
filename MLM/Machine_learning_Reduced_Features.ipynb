{
 "cells": [
  {
   "cell_type": "code",
   "execution_count": 33,
   "id": "619fbb8f",
   "metadata": {},
   "outputs": [],
   "source": [
    "# Imports\n",
    "import pandas as pd\n",
    "import numpy as np\n",
    "from sklearn.linear_model import LogisticRegression\n",
    "from sklearn.metrics import balanced_accuracy_score, confusion_matrix\n",
    "from imblearn.metrics import classification_report_imbalanced\n",
    "from imblearn.ensemble import BalancedRandomForestClassifier\n",
    "from sklearn.model_selection import train_test_split\n",
    "from imblearn.ensemble import EasyEnsembleClassifier\n",
    "from imblearn.combine import SMOTEENN\n",
    "from collections import Counter"
   ]
  },
  {
   "cell_type": "code",
   "execution_count": 34,
   "id": "21cb75a3",
   "metadata": {},
   "outputs": [],
   "source": [
    "import seaborn as sns\n",
    "import matplotlib.pyplot as plt\n",
    "def metrics_score(actual, predicted):\n",
    "    print(classification_report_imbalanced(actual, predicted))\n",
    "    cm = confusion_matrix(actual, predicted)\n",
    "    plt.figure(figsize=(8,5))\n",
    "    sns.heatmap(cm, annot=True, fmt='.2f', xticklabels=['Not Winner', 'Winner'], yticklabels=['Not Winner', 'Winner'])\n",
    "    plt.ylabel('Actual')\n",
    "    plt.xlabel('Predicted')\n",
    "    plt.show()"
   ]
  },
  {
   "cell_type": "code",
   "execution_count": 35,
   "id": "25bd6e7d",
   "metadata": {},
   "outputs": [
    {
     "data": {
      "text/html": [
       "<div>\n",
       "<style scoped>\n",
       "    .dataframe tbody tr th:only-of-type {\n",
       "        vertical-align: middle;\n",
       "    }\n",
       "\n",
       "    .dataframe tbody tr th {\n",
       "        vertical-align: top;\n",
       "    }\n",
       "\n",
       "    .dataframe thead th {\n",
       "        text-align: right;\n",
       "    }\n",
       "</style>\n",
       "<table border=\"1\" class=\"dataframe\">\n",
       "  <thead>\n",
       "    <tr style=\"text-align: right;\">\n",
       "      <th></th>\n",
       "      <th>movie_id</th>\n",
       "      <th>movie_name</th>\n",
       "      <th>release_year</th>\n",
       "      <th>original_release_date</th>\n",
       "      <th>movie_length</th>\n",
       "      <th>rating</th>\n",
       "      <th>movie_producer</th>\n",
       "      <th>movie_director</th>\n",
       "      <th>movie_actor</th>\n",
       "      <th>imdb_rating</th>\n",
       "      <th>...</th>\n",
       "      <th>movie_producer_main</th>\n",
       "      <th>movie_director_main</th>\n",
       "      <th>movie_actor_1</th>\n",
       "      <th>movie_actor_2</th>\n",
       "      <th>award_Nominee</th>\n",
       "      <th>award_Winner</th>\n",
       "      <th>imdb_rating_scaled</th>\n",
       "      <th>tomatometer_rating_scaled</th>\n",
       "      <th>audience_rating_scaled</th>\n",
       "      <th>avg_rating</th>\n",
       "    </tr>\n",
       "  </thead>\n",
       "  <tbody>\n",
       "    <tr>\n",
       "      <th>0</th>\n",
       "      <td>1</td>\n",
       "      <td>Wings</td>\n",
       "      <td>1927</td>\n",
       "      <td>8/12/27</td>\n",
       "      <td>144</td>\n",
       "      <td>PG-13</td>\n",
       "      <td>Famous Players-Lasky</td>\n",
       "      <td>William Wellman</td>\n",
       "      <td>Clara Bow, Charles 'Buddy' Rogers, Richard Arl...</td>\n",
       "      <td>7.5</td>\n",
       "      <td>...</td>\n",
       "      <td>Famous Players-Lasky</td>\n",
       "      <td>William Wellman</td>\n",
       "      <td>Clara Bow</td>\n",
       "      <td>Charles 'Buddy' Rogers</td>\n",
       "      <td>0</td>\n",
       "      <td>1</td>\n",
       "      <td>7.5</td>\n",
       "      <td>9.3</td>\n",
       "      <td>7.8</td>\n",
       "      <td>8.7</td>\n",
       "    </tr>\n",
       "    <tr>\n",
       "      <th>1</th>\n",
       "      <td>2</td>\n",
       "      <td>7th Heaven</td>\n",
       "      <td>1927</td>\n",
       "      <td>NaN</td>\n",
       "      <td>110</td>\n",
       "      <td>None</td>\n",
       "      <td>Fox</td>\n",
       "      <td></td>\n",
       "      <td></td>\n",
       "      <td>7.7</td>\n",
       "      <td>...</td>\n",
       "      <td>Fox</td>\n",
       "      <td></td>\n",
       "      <td></td>\n",
       "      <td>NaN</td>\n",
       "      <td>1</td>\n",
       "      <td>0</td>\n",
       "      <td>7.7</td>\n",
       "      <td>0.0</td>\n",
       "      <td>0.0</td>\n",
       "      <td>7.7</td>\n",
       "    </tr>\n",
       "    <tr>\n",
       "      <th>2</th>\n",
       "      <td>3</td>\n",
       "      <td>The Racket</td>\n",
       "      <td>1928</td>\n",
       "      <td>NaN</td>\n",
       "      <td>84</td>\n",
       "      <td>None</td>\n",
       "      <td>The Caddo Company</td>\n",
       "      <td></td>\n",
       "      <td></td>\n",
       "      <td>6.7</td>\n",
       "      <td>...</td>\n",
       "      <td>The Caddo Company</td>\n",
       "      <td></td>\n",
       "      <td></td>\n",
       "      <td>NaN</td>\n",
       "      <td>1</td>\n",
       "      <td>0</td>\n",
       "      <td>6.7</td>\n",
       "      <td>0.0</td>\n",
       "      <td>0.0</td>\n",
       "      <td>6.7</td>\n",
       "    </tr>\n",
       "    <tr>\n",
       "      <th>3</th>\n",
       "      <td>4</td>\n",
       "      <td>The Broadway Melody</td>\n",
       "      <td>1929</td>\n",
       "      <td>2/1/29</td>\n",
       "      <td>100</td>\n",
       "      <td>NR</td>\n",
       "      <td>Metro-Goldwyn-Mayer</td>\n",
       "      <td>Harry Beaumont</td>\n",
       "      <td>Anita Page, Bessie Love, Charles King, Jed Pro...</td>\n",
       "      <td>5.7</td>\n",
       "      <td>...</td>\n",
       "      <td>Metro-Goldwyn-Mayer</td>\n",
       "      <td>Harry Beaumont</td>\n",
       "      <td>Anita Page</td>\n",
       "      <td>Bessie Love</td>\n",
       "      <td>0</td>\n",
       "      <td>1</td>\n",
       "      <td>5.7</td>\n",
       "      <td>3.3</td>\n",
       "      <td>2.1</td>\n",
       "      <td>4.1</td>\n",
       "    </tr>\n",
       "    <tr>\n",
       "      <th>4</th>\n",
       "      <td>5</td>\n",
       "      <td>Alibi</td>\n",
       "      <td>1929</td>\n",
       "      <td>NaN</td>\n",
       "      <td>91</td>\n",
       "      <td>None</td>\n",
       "      <td>Feature Productions</td>\n",
       "      <td></td>\n",
       "      <td></td>\n",
       "      <td>5.8</td>\n",
       "      <td>...</td>\n",
       "      <td>Feature Productions</td>\n",
       "      <td></td>\n",
       "      <td></td>\n",
       "      <td>NaN</td>\n",
       "      <td>1</td>\n",
       "      <td>0</td>\n",
       "      <td>5.8</td>\n",
       "      <td>0.0</td>\n",
       "      <td>0.0</td>\n",
       "      <td>5.8</td>\n",
       "    </tr>\n",
       "    <tr>\n",
       "      <th>...</th>\n",
       "      <td>...</td>\n",
       "      <td>...</td>\n",
       "      <td>...</td>\n",
       "      <td>...</td>\n",
       "      <td>...</td>\n",
       "      <td>...</td>\n",
       "      <td>...</td>\n",
       "      <td>...</td>\n",
       "      <td>...</td>\n",
       "      <td>...</td>\n",
       "      <td>...</td>\n",
       "      <td>...</td>\n",
       "      <td>...</td>\n",
       "      <td>...</td>\n",
       "      <td>...</td>\n",
       "      <td>...</td>\n",
       "      <td>...</td>\n",
       "      <td>...</td>\n",
       "      <td>...</td>\n",
       "      <td>...</td>\n",
       "      <td>...</td>\n",
       "    </tr>\n",
       "    <tr>\n",
       "      <th>566</th>\n",
       "      <td>567</td>\n",
       "      <td>Mank</td>\n",
       "      <td>2020</td>\n",
       "      <td>NaN</td>\n",
       "      <td>131</td>\n",
       "      <td>None</td>\n",
       "      <td>Ceán Chaffin, Eric Roth, and Douglas Urbanski</td>\n",
       "      <td></td>\n",
       "      <td></td>\n",
       "      <td>6.9</td>\n",
       "      <td>...</td>\n",
       "      <td>Ceán Chaffin</td>\n",
       "      <td></td>\n",
       "      <td></td>\n",
       "      <td>NaN</td>\n",
       "      <td>1</td>\n",
       "      <td>0</td>\n",
       "      <td>6.9</td>\n",
       "      <td>0.0</td>\n",
       "      <td>0.0</td>\n",
       "      <td>6.9</td>\n",
       "    </tr>\n",
       "    <tr>\n",
       "      <th>567</th>\n",
       "      <td>568</td>\n",
       "      <td>Minari</td>\n",
       "      <td>2020</td>\n",
       "      <td>NaN</td>\n",
       "      <td>115</td>\n",
       "      <td>None</td>\n",
       "      <td>Christina Oh</td>\n",
       "      <td></td>\n",
       "      <td></td>\n",
       "      <td>7.5</td>\n",
       "      <td>...</td>\n",
       "      <td>Christina Oh</td>\n",
       "      <td></td>\n",
       "      <td></td>\n",
       "      <td>NaN</td>\n",
       "      <td>1</td>\n",
       "      <td>0</td>\n",
       "      <td>7.5</td>\n",
       "      <td>0.0</td>\n",
       "      <td>0.0</td>\n",
       "      <td>7.5</td>\n",
       "    </tr>\n",
       "    <tr>\n",
       "      <th>568</th>\n",
       "      <td>569</td>\n",
       "      <td>Promising Young Woman</td>\n",
       "      <td>2020</td>\n",
       "      <td>NaN</td>\n",
       "      <td>113</td>\n",
       "      <td>None</td>\n",
       "      <td>Ben Browning, Ashley Fox, Emerald Fennell, and...</td>\n",
       "      <td></td>\n",
       "      <td></td>\n",
       "      <td>7.5</td>\n",
       "      <td>...</td>\n",
       "      <td>Ben Browning</td>\n",
       "      <td></td>\n",
       "      <td></td>\n",
       "      <td>NaN</td>\n",
       "      <td>1</td>\n",
       "      <td>0</td>\n",
       "      <td>7.5</td>\n",
       "      <td>0.0</td>\n",
       "      <td>0.0</td>\n",
       "      <td>7.5</td>\n",
       "    </tr>\n",
       "    <tr>\n",
       "      <th>569</th>\n",
       "      <td>570</td>\n",
       "      <td>Sound of Metal</td>\n",
       "      <td>2019</td>\n",
       "      <td>NaN</td>\n",
       "      <td>120</td>\n",
       "      <td>None</td>\n",
       "      <td>Bert Hamelinck and Sacha Ben Harroche</td>\n",
       "      <td></td>\n",
       "      <td></td>\n",
       "      <td>7.8</td>\n",
       "      <td>...</td>\n",
       "      <td>Bert Hamelinck and Sacha Ben Harroche</td>\n",
       "      <td></td>\n",
       "      <td></td>\n",
       "      <td>NaN</td>\n",
       "      <td>1</td>\n",
       "      <td>0</td>\n",
       "      <td>7.8</td>\n",
       "      <td>0.0</td>\n",
       "      <td>0.0</td>\n",
       "      <td>7.8</td>\n",
       "    </tr>\n",
       "    <tr>\n",
       "      <th>570</th>\n",
       "      <td>571</td>\n",
       "      <td>The Trial of the Chicago 7</td>\n",
       "      <td>2020</td>\n",
       "      <td>NaN</td>\n",
       "      <td>129</td>\n",
       "      <td>None</td>\n",
       "      <td>Marc Platt and Stuart M. Besser</td>\n",
       "      <td></td>\n",
       "      <td></td>\n",
       "      <td>7.8</td>\n",
       "      <td>...</td>\n",
       "      <td>Marc Platt and Stuart M. Besser</td>\n",
       "      <td></td>\n",
       "      <td></td>\n",
       "      <td>NaN</td>\n",
       "      <td>1</td>\n",
       "      <td>0</td>\n",
       "      <td>7.8</td>\n",
       "      <td>0.0</td>\n",
       "      <td>0.0</td>\n",
       "      <td>7.8</td>\n",
       "    </tr>\n",
       "  </tbody>\n",
       "</table>\n",
       "<p>571 rows × 51 columns</p>\n",
       "</div>"
      ],
      "text/plain": [
       "     movie_id                  movie_name  release_year original_release_date  \\\n",
       "0           1                       Wings          1927               8/12/27   \n",
       "1           2                  7th Heaven          1927                   NaN   \n",
       "2           3                  The Racket          1928                   NaN   \n",
       "3           4         The Broadway Melody          1929                2/1/29   \n",
       "4           5                       Alibi          1929                   NaN   \n",
       "..        ...                         ...           ...                   ...   \n",
       "566       567                        Mank          2020                   NaN   \n",
       "567       568                      Minari          2020                   NaN   \n",
       "568       569       Promising Young Woman          2020                   NaN   \n",
       "569       570              Sound of Metal          2019                   NaN   \n",
       "570       571  The Trial of the Chicago 7          2020                   NaN   \n",
       "\n",
       "     movie_length rating                                     movie_producer  \\\n",
       "0             144  PG-13                               Famous Players-Lasky   \n",
       "1             110   None                                                Fox   \n",
       "2              84   None                                  The Caddo Company   \n",
       "3             100     NR                                Metro-Goldwyn-Mayer   \n",
       "4              91   None                                Feature Productions   \n",
       "..            ...    ...                                                ...   \n",
       "566           131   None      Ceán Chaffin, Eric Roth, and Douglas Urbanski   \n",
       "567           115   None                                       Christina Oh   \n",
       "568           113   None  Ben Browning, Ashley Fox, Emerald Fennell, and...   \n",
       "569           120   None              Bert Hamelinck and Sacha Ben Harroche   \n",
       "570           129   None                    Marc Platt and Stuart M. Besser   \n",
       "\n",
       "      movie_director                                        movie_actor  \\\n",
       "0    William Wellman  Clara Bow, Charles 'Buddy' Rogers, Richard Arl...   \n",
       "1                                                                         \n",
       "2                                                                         \n",
       "3     Harry Beaumont  Anita Page, Bessie Love, Charles King, Jed Pro...   \n",
       "4                                                                         \n",
       "..               ...                                                ...   \n",
       "566                                                                       \n",
       "567                                                                       \n",
       "568                                                                       \n",
       "569                                                                       \n",
       "570                                                                       \n",
       "\n",
       "     imdb_rating  ...                    movie_producer_main  \\\n",
       "0            7.5  ...                   Famous Players-Lasky   \n",
       "1            7.7  ...                                    Fox   \n",
       "2            6.7  ...                      The Caddo Company   \n",
       "3            5.7  ...                    Metro-Goldwyn-Mayer   \n",
       "4            5.8  ...                    Feature Productions   \n",
       "..           ...  ...                                    ...   \n",
       "566          6.9  ...                           Ceán Chaffin   \n",
       "567          7.5  ...                           Christina Oh   \n",
       "568          7.5  ...                           Ben Browning   \n",
       "569          7.8  ...  Bert Hamelinck and Sacha Ben Harroche   \n",
       "570          7.8  ...        Marc Platt and Stuart M. Besser   \n",
       "\n",
       "     movie_director_main  movie_actor_1            movie_actor_2  \\\n",
       "0        William Wellman      Clara Bow   Charles 'Buddy' Rogers   \n",
       "1                                                            NaN   \n",
       "2                                                            NaN   \n",
       "3         Harry Beaumont     Anita Page              Bessie Love   \n",
       "4                                                            NaN   \n",
       "..                   ...            ...                      ...   \n",
       "566                                                          NaN   \n",
       "567                                                          NaN   \n",
       "568                                                          NaN   \n",
       "569                                                          NaN   \n",
       "570                                                          NaN   \n",
       "\n",
       "     award_Nominee  award_Winner  imdb_rating_scaled  \\\n",
       "0                0             1                 7.5   \n",
       "1                1             0                 7.7   \n",
       "2                1             0                 6.7   \n",
       "3                0             1                 5.7   \n",
       "4                1             0                 5.8   \n",
       "..             ...           ...                 ...   \n",
       "566              1             0                 6.9   \n",
       "567              1             0                 7.5   \n",
       "568              1             0                 7.5   \n",
       "569              1             0                 7.8   \n",
       "570              1             0                 7.8   \n",
       "\n",
       "     tomatometer_rating_scaled  audience_rating_scaled avg_rating  \n",
       "0                          9.3                     7.8        8.7  \n",
       "1                          0.0                     0.0        7.7  \n",
       "2                          0.0                     0.0        6.7  \n",
       "3                          3.3                     2.1        4.1  \n",
       "4                          0.0                     0.0        5.8  \n",
       "..                         ...                     ...        ...  \n",
       "566                        0.0                     0.0        6.9  \n",
       "567                        0.0                     0.0        7.5  \n",
       "568                        0.0                     0.0        7.5  \n",
       "569                        0.0                     0.0        7.8  \n",
       "570                        0.0                     0.0        7.8  \n",
       "\n",
       "[571 rows x 51 columns]"
      ]
     },
     "execution_count": 35,
     "metadata": {},
     "output_type": "execute_result"
    }
   ],
   "source": [
    "# Load the data\n",
    "ml_df = pd.read_csv('Processed_Oscar_movie_Details.csv')\n",
    "ml_df\n"
   ]
  },
  {
   "cell_type": "code",
   "execution_count": 36,
   "id": "e80163bf",
   "metadata": {},
   "outputs": [
    {
     "name": "stdout",
     "output_type": "stream",
     "text": [
      "List of column names :  ['movie_id', 'movie_name', 'release_year', 'original_release_date', 'movie_length', 'rating', 'movie_producer', 'movie_director', 'movie_actor', 'imdb_rating', 'imdb_votes', 'tomatometer_rating', 'tomatometer_count', 'audience_rating', 'audience_count', 'us_gross_income', 'worldwide_gross_income', 'production_budget', 'oscar_year', 'award', 'genre_Action', 'genre_Adventure', 'genre_Animation', 'genre_Biography', 'genre_Comedy', 'genre_Crime', 'genre_Drama', 'genre_Family', 'genre_Fantasy', 'genre_Film-Noir', 'genre_History', 'genre_Horror', 'genre_Music', 'genre_Musical', 'genre_Mystery', 'genre_Romance', 'genre_Sci-Fi', 'genre_Sport', 'genre_Thriller', 'genre_War', 'genre_Western', 'movie_producer_main', 'movie_director_main', 'movie_actor_1', 'movie_actor_2', 'award_Nominee', 'award_Winner', 'imdb_rating_scaled', 'tomatometer_rating_scaled', 'audience_rating_scaled', 'avg_rating']\n"
     ]
    }
   ],
   "source": [
    "list_of_column_names = list(ml_df.columns)\n",
    "print('List of column names : ',\n",
    "      list_of_column_names)"
   ]
  },
  {
   "cell_type": "code",
   "execution_count": 37,
   "id": "ee895555",
   "metadata": {},
   "outputs": [
    {
     "data": {
      "text/html": [
       "<div>\n",
       "<style scoped>\n",
       "    .dataframe tbody tr th:only-of-type {\n",
       "        vertical-align: middle;\n",
       "    }\n",
       "\n",
       "    .dataframe tbody tr th {\n",
       "        vertical-align: top;\n",
       "    }\n",
       "\n",
       "    .dataframe thead th {\n",
       "        text-align: right;\n",
       "    }\n",
       "</style>\n",
       "<table border=\"1\" class=\"dataframe\">\n",
       "  <thead>\n",
       "    <tr style=\"text-align: right;\">\n",
       "      <th></th>\n",
       "      <th>release_year</th>\n",
       "      <th>movie_length</th>\n",
       "      <th>genre_Action</th>\n",
       "      <th>genre_Adventure</th>\n",
       "      <th>genre_Animation</th>\n",
       "      <th>genre_Biography</th>\n",
       "      <th>genre_Comedy</th>\n",
       "      <th>genre_Crime</th>\n",
       "      <th>genre_Drama</th>\n",
       "      <th>genre_Family</th>\n",
       "      <th>...</th>\n",
       "      <th>genre_Musical</th>\n",
       "      <th>genre_Mystery</th>\n",
       "      <th>genre_Romance</th>\n",
       "      <th>genre_Sci-Fi</th>\n",
       "      <th>genre_Sport</th>\n",
       "      <th>genre_Thriller</th>\n",
       "      <th>genre_War</th>\n",
       "      <th>genre_Western</th>\n",
       "      <th>avg_rating</th>\n",
       "      <th>award_Winner</th>\n",
       "    </tr>\n",
       "  </thead>\n",
       "  <tbody>\n",
       "    <tr>\n",
       "      <th>0</th>\n",
       "      <td>1927</td>\n",
       "      <td>144</td>\n",
       "      <td>False</td>\n",
       "      <td>False</td>\n",
       "      <td>False</td>\n",
       "      <td>False</td>\n",
       "      <td>False</td>\n",
       "      <td>False</td>\n",
       "      <td>True</td>\n",
       "      <td>False</td>\n",
       "      <td>...</td>\n",
       "      <td>False</td>\n",
       "      <td>False</td>\n",
       "      <td>True</td>\n",
       "      <td>False</td>\n",
       "      <td>False</td>\n",
       "      <td>False</td>\n",
       "      <td>True</td>\n",
       "      <td>False</td>\n",
       "      <td>8.7</td>\n",
       "      <td>1</td>\n",
       "    </tr>\n",
       "    <tr>\n",
       "      <th>1</th>\n",
       "      <td>1927</td>\n",
       "      <td>110</td>\n",
       "      <td>False</td>\n",
       "      <td>False</td>\n",
       "      <td>False</td>\n",
       "      <td>False</td>\n",
       "      <td>False</td>\n",
       "      <td>False</td>\n",
       "      <td>True</td>\n",
       "      <td>False</td>\n",
       "      <td>...</td>\n",
       "      <td>False</td>\n",
       "      <td>False</td>\n",
       "      <td>True</td>\n",
       "      <td>False</td>\n",
       "      <td>False</td>\n",
       "      <td>False</td>\n",
       "      <td>False</td>\n",
       "      <td>False</td>\n",
       "      <td>7.7</td>\n",
       "      <td>0</td>\n",
       "    </tr>\n",
       "    <tr>\n",
       "      <th>2</th>\n",
       "      <td>1928</td>\n",
       "      <td>84</td>\n",
       "      <td>False</td>\n",
       "      <td>False</td>\n",
       "      <td>False</td>\n",
       "      <td>False</td>\n",
       "      <td>False</td>\n",
       "      <td>True</td>\n",
       "      <td>True</td>\n",
       "      <td>False</td>\n",
       "      <td>...</td>\n",
       "      <td>False</td>\n",
       "      <td>False</td>\n",
       "      <td>False</td>\n",
       "      <td>False</td>\n",
       "      <td>False</td>\n",
       "      <td>False</td>\n",
       "      <td>False</td>\n",
       "      <td>False</td>\n",
       "      <td>6.7</td>\n",
       "      <td>0</td>\n",
       "    </tr>\n",
       "    <tr>\n",
       "      <th>3</th>\n",
       "      <td>1929</td>\n",
       "      <td>100</td>\n",
       "      <td>False</td>\n",
       "      <td>False</td>\n",
       "      <td>False</td>\n",
       "      <td>False</td>\n",
       "      <td>False</td>\n",
       "      <td>False</td>\n",
       "      <td>True</td>\n",
       "      <td>False</td>\n",
       "      <td>...</td>\n",
       "      <td>True</td>\n",
       "      <td>False</td>\n",
       "      <td>True</td>\n",
       "      <td>False</td>\n",
       "      <td>False</td>\n",
       "      <td>False</td>\n",
       "      <td>False</td>\n",
       "      <td>False</td>\n",
       "      <td>4.1</td>\n",
       "      <td>1</td>\n",
       "    </tr>\n",
       "    <tr>\n",
       "      <th>4</th>\n",
       "      <td>1929</td>\n",
       "      <td>91</td>\n",
       "      <td>True</td>\n",
       "      <td>False</td>\n",
       "      <td>False</td>\n",
       "      <td>False</td>\n",
       "      <td>False</td>\n",
       "      <td>True</td>\n",
       "      <td>False</td>\n",
       "      <td>False</td>\n",
       "      <td>...</td>\n",
       "      <td>False</td>\n",
       "      <td>False</td>\n",
       "      <td>True</td>\n",
       "      <td>False</td>\n",
       "      <td>False</td>\n",
       "      <td>False</td>\n",
       "      <td>False</td>\n",
       "      <td>False</td>\n",
       "      <td>5.8</td>\n",
       "      <td>0</td>\n",
       "    </tr>\n",
       "    <tr>\n",
       "      <th>...</th>\n",
       "      <td>...</td>\n",
       "      <td>...</td>\n",
       "      <td>...</td>\n",
       "      <td>...</td>\n",
       "      <td>...</td>\n",
       "      <td>...</td>\n",
       "      <td>...</td>\n",
       "      <td>...</td>\n",
       "      <td>...</td>\n",
       "      <td>...</td>\n",
       "      <td>...</td>\n",
       "      <td>...</td>\n",
       "      <td>...</td>\n",
       "      <td>...</td>\n",
       "      <td>...</td>\n",
       "      <td>...</td>\n",
       "      <td>...</td>\n",
       "      <td>...</td>\n",
       "      <td>...</td>\n",
       "      <td>...</td>\n",
       "      <td>...</td>\n",
       "    </tr>\n",
       "    <tr>\n",
       "      <th>566</th>\n",
       "      <td>2020</td>\n",
       "      <td>131</td>\n",
       "      <td>False</td>\n",
       "      <td>False</td>\n",
       "      <td>False</td>\n",
       "      <td>True</td>\n",
       "      <td>True</td>\n",
       "      <td>False</td>\n",
       "      <td>True</td>\n",
       "      <td>False</td>\n",
       "      <td>...</td>\n",
       "      <td>False</td>\n",
       "      <td>False</td>\n",
       "      <td>False</td>\n",
       "      <td>False</td>\n",
       "      <td>False</td>\n",
       "      <td>False</td>\n",
       "      <td>False</td>\n",
       "      <td>False</td>\n",
       "      <td>6.9</td>\n",
       "      <td>0</td>\n",
       "    </tr>\n",
       "    <tr>\n",
       "      <th>567</th>\n",
       "      <td>2020</td>\n",
       "      <td>115</td>\n",
       "      <td>False</td>\n",
       "      <td>False</td>\n",
       "      <td>False</td>\n",
       "      <td>False</td>\n",
       "      <td>False</td>\n",
       "      <td>False</td>\n",
       "      <td>True</td>\n",
       "      <td>False</td>\n",
       "      <td>...</td>\n",
       "      <td>False</td>\n",
       "      <td>False</td>\n",
       "      <td>False</td>\n",
       "      <td>False</td>\n",
       "      <td>False</td>\n",
       "      <td>False</td>\n",
       "      <td>False</td>\n",
       "      <td>False</td>\n",
       "      <td>7.5</td>\n",
       "      <td>0</td>\n",
       "    </tr>\n",
       "    <tr>\n",
       "      <th>568</th>\n",
       "      <td>2020</td>\n",
       "      <td>113</td>\n",
       "      <td>False</td>\n",
       "      <td>False</td>\n",
       "      <td>False</td>\n",
       "      <td>False</td>\n",
       "      <td>False</td>\n",
       "      <td>True</td>\n",
       "      <td>True</td>\n",
       "      <td>False</td>\n",
       "      <td>...</td>\n",
       "      <td>False</td>\n",
       "      <td>False</td>\n",
       "      <td>False</td>\n",
       "      <td>False</td>\n",
       "      <td>False</td>\n",
       "      <td>True</td>\n",
       "      <td>False</td>\n",
       "      <td>False</td>\n",
       "      <td>7.5</td>\n",
       "      <td>0</td>\n",
       "    </tr>\n",
       "    <tr>\n",
       "      <th>569</th>\n",
       "      <td>2019</td>\n",
       "      <td>120</td>\n",
       "      <td>False</td>\n",
       "      <td>False</td>\n",
       "      <td>False</td>\n",
       "      <td>False</td>\n",
       "      <td>False</td>\n",
       "      <td>False</td>\n",
       "      <td>True</td>\n",
       "      <td>False</td>\n",
       "      <td>...</td>\n",
       "      <td>False</td>\n",
       "      <td>False</td>\n",
       "      <td>False</td>\n",
       "      <td>False</td>\n",
       "      <td>False</td>\n",
       "      <td>False</td>\n",
       "      <td>False</td>\n",
       "      <td>False</td>\n",
       "      <td>7.8</td>\n",
       "      <td>0</td>\n",
       "    </tr>\n",
       "    <tr>\n",
       "      <th>570</th>\n",
       "      <td>2020</td>\n",
       "      <td>129</td>\n",
       "      <td>False</td>\n",
       "      <td>False</td>\n",
       "      <td>False</td>\n",
       "      <td>False</td>\n",
       "      <td>False</td>\n",
       "      <td>False</td>\n",
       "      <td>True</td>\n",
       "      <td>False</td>\n",
       "      <td>...</td>\n",
       "      <td>False</td>\n",
       "      <td>False</td>\n",
       "      <td>False</td>\n",
       "      <td>False</td>\n",
       "      <td>False</td>\n",
       "      <td>True</td>\n",
       "      <td>False</td>\n",
       "      <td>False</td>\n",
       "      <td>7.8</td>\n",
       "      <td>0</td>\n",
       "    </tr>\n",
       "  </tbody>\n",
       "</table>\n",
       "<p>571 rows × 25 columns</p>\n",
       "</div>"
      ],
      "text/plain": [
       "     release_year  movie_length  genre_Action  genre_Adventure  \\\n",
       "0            1927           144         False            False   \n",
       "1            1927           110         False            False   \n",
       "2            1928            84         False            False   \n",
       "3            1929           100         False            False   \n",
       "4            1929            91          True            False   \n",
       "..            ...           ...           ...              ...   \n",
       "566          2020           131         False            False   \n",
       "567          2020           115         False            False   \n",
       "568          2020           113         False            False   \n",
       "569          2019           120         False            False   \n",
       "570          2020           129         False            False   \n",
       "\n",
       "     genre_Animation  genre_Biography  genre_Comedy  genre_Crime  genre_Drama  \\\n",
       "0              False            False         False        False         True   \n",
       "1              False            False         False        False         True   \n",
       "2              False            False         False         True         True   \n",
       "3              False            False         False        False         True   \n",
       "4              False            False         False         True        False   \n",
       "..               ...              ...           ...          ...          ...   \n",
       "566            False             True          True        False         True   \n",
       "567            False            False         False        False         True   \n",
       "568            False            False         False         True         True   \n",
       "569            False            False         False        False         True   \n",
       "570            False            False         False        False         True   \n",
       "\n",
       "     genre_Family  ...  genre_Musical  genre_Mystery  genre_Romance  \\\n",
       "0           False  ...          False          False           True   \n",
       "1           False  ...          False          False           True   \n",
       "2           False  ...          False          False          False   \n",
       "3           False  ...           True          False           True   \n",
       "4           False  ...          False          False           True   \n",
       "..            ...  ...            ...            ...            ...   \n",
       "566         False  ...          False          False          False   \n",
       "567         False  ...          False          False          False   \n",
       "568         False  ...          False          False          False   \n",
       "569         False  ...          False          False          False   \n",
       "570         False  ...          False          False          False   \n",
       "\n",
       "     genre_Sci-Fi  genre_Sport  genre_Thriller  genre_War  genre_Western  \\\n",
       "0           False        False           False       True          False   \n",
       "1           False        False           False      False          False   \n",
       "2           False        False           False      False          False   \n",
       "3           False        False           False      False          False   \n",
       "4           False        False           False      False          False   \n",
       "..            ...          ...             ...        ...            ...   \n",
       "566         False        False           False      False          False   \n",
       "567         False        False           False      False          False   \n",
       "568         False        False            True      False          False   \n",
       "569         False        False           False      False          False   \n",
       "570         False        False            True      False          False   \n",
       "\n",
       "     avg_rating  award_Winner  \n",
       "0           8.7             1  \n",
       "1           7.7             0  \n",
       "2           6.7             0  \n",
       "3           4.1             1  \n",
       "4           5.8             0  \n",
       "..          ...           ...  \n",
       "566         6.9             0  \n",
       "567         7.5             0  \n",
       "568         7.5             0  \n",
       "569         7.8             0  \n",
       "570         7.8             0  \n",
       "\n",
       "[571 rows x 25 columns]"
      ]
     },
     "execution_count": 37,
     "metadata": {},
     "output_type": "execute_result"
    }
   ],
   "source": [
    "df = ml_df.loc[:,[\"release_year\", \"movie_length\", \n",
    "                 \"genre_Action\", \"genre_Adventure\", \"genre_Animation\", \"genre_Biography\", \n",
    "                 \"genre_Comedy\", \"genre_Crime\", \"genre_Drama\", \"genre_Family\", \n",
    "                 \"genre_Fantasy\", \"genre_Film-Noir\", \"genre_History\", \"genre_Horror\", \n",
    "                 \"genre_Music\", \"genre_Musical\", \"genre_Mystery\", \"genre_Romance\", \n",
    "                 \"genre_Sci-Fi\", \"genre_Sport\", \"genre_Thriller\", \"genre_War\", \n",
    "                 \"genre_Western\",\"avg_rating\", \"award_Winner\"]]\n",
    "\n",
    "df"
   ]
  },
  {
   "cell_type": "code",
   "execution_count": 38,
   "id": "e648c84a",
   "metadata": {},
   "outputs": [
    {
     "data": {
      "text/plain": [
       "0      1\n",
       "1      1\n",
       "2      1\n",
       "3      1\n",
       "4      0\n",
       "      ..\n",
       "566    1\n",
       "567    1\n",
       "568    1\n",
       "569    1\n",
       "570    1\n",
       "Name: genre_Drama, Length: 571, dtype: int64"
      ]
     },
     "execution_count": 38,
     "metadata": {},
     "output_type": "execute_result"
    }
   ],
   "source": [
    "df = df.replace({True: 1, False: 0})\n",
    "df[\"genre_Drama\"]"
   ]
  },
  {
   "cell_type": "code",
   "execution_count": 39,
   "id": "a9552af5",
   "metadata": {},
   "outputs": [],
   "source": [
    "# Create our features\n",
    "X = df.drop(\"award_Winner\", axis=1)\n",
    "y = df[\"award_Winner\"]"
   ]
  },
  {
   "cell_type": "code",
   "execution_count": 40,
   "id": "e54cbd9c",
   "metadata": {},
   "outputs": [],
   "source": [
    "# Fill null values with 0\n",
    "X = X.fillna(0)"
   ]
  },
  {
   "cell_type": "code",
   "execution_count": 41,
   "id": "d98951d2",
   "metadata": {},
   "outputs": [
    {
     "data": {
      "text/plain": [
       "Index(['release_year', 'movie_length', 'genre_Action', 'genre_Adventure',\n",
       "       'genre_Animation', 'genre_Biography', 'genre_Comedy', 'genre_Crime',\n",
       "       'genre_Drama', 'genre_Family', 'genre_Fantasy', 'genre_Film-Noir',\n",
       "       'genre_History', 'genre_Horror', 'genre_Music', 'genre_Musical',\n",
       "       'genre_Mystery', 'genre_Romance', 'genre_Sci-Fi', 'genre_Sport',\n",
       "       'genre_Thriller', 'genre_War', 'genre_Western', 'avg_rating'],\n",
       "      dtype='object')"
      ]
     },
     "execution_count": 41,
     "metadata": {},
     "output_type": "execute_result"
    }
   ],
   "source": [
    "X.columns"
   ]
  },
  {
   "cell_type": "code",
   "execution_count": 42,
   "id": "07979102",
   "metadata": {},
   "outputs": [],
   "source": [
    "X_train, X_test, y_train, y_test = train_test_split(X,\n",
    "   y, random_state=1, stratify=y)"
   ]
  },
  {
   "cell_type": "code",
   "execution_count": 43,
   "id": "0dd7d40b",
   "metadata": {},
   "outputs": [],
   "source": [
    "# Resample the training data with the BalancedRandomForestClassifier\n",
    "brf_model = BalancedRandomForestClassifier(n_estimators=100, random_state=1)\n",
    "brf_model = brf_model.fit(X_train, y_train)"
   ]
  },
  {
   "cell_type": "code",
   "execution_count": 44,
   "id": "94933cb1",
   "metadata": {},
   "outputs": [
    {
     "data": {
      "text/plain": [
       "0.6126811594202899"
      ]
     },
     "execution_count": 44,
     "metadata": {},
     "output_type": "execute_result"
    }
   ],
   "source": [
    "# Calculated the balanced accuracy score\n",
    "y_pred = brf_model.predict(X_test)\n",
    "balanced_accuracy_score(y_test, y_pred)"
   ]
  },
  {
   "cell_type": "code",
   "execution_count": 45,
   "id": "63db6cce",
   "metadata": {},
   "outputs": [
    {
     "data": {
      "text/plain": [
       "array([[74, 46],\n",
       "       [ 9, 14]], dtype=int64)"
      ]
     },
     "execution_count": 45,
     "metadata": {},
     "output_type": "execute_result"
    }
   ],
   "source": [
    "# Display the confusion matrix\n",
    "confusion_matrix(y_test, y_pred)"
   ]
  },
  {
   "cell_type": "code",
   "execution_count": 46,
   "id": "3199429a",
   "metadata": {},
   "outputs": [
    {
     "name": "stdout",
     "output_type": "stream",
     "text": [
      "                   pre       rec       spe        f1       geo       iba       sup\n",
      "\n",
      "          0       0.89      0.62      0.61      0.73      0.61      0.38       120\n",
      "          1       0.23      0.61      0.62      0.34      0.61      0.38        23\n",
      "\n",
      "avg / total       0.79      0.62      0.61      0.67      0.61      0.38       143\n",
      "\n"
     ]
    }
   ],
   "source": [
    "# Print the imbalanced classification report\n",
    "print(classification_report_imbalanced(y_test, y_pred))"
   ]
  },
  {
   "cell_type": "code",
   "execution_count": 47,
   "id": "dc6003fd",
   "metadata": {},
   "outputs": [
    {
     "name": "stdout",
     "output_type": "stream",
     "text": [
      "                   pre       rec       spe        f1       geo       iba       sup\n",
      "\n",
      "          0       0.89      0.62      0.61      0.73      0.61      0.38       120\n",
      "          1       0.23      0.61      0.62      0.34      0.61      0.38        23\n",
      "\n",
      "avg / total       0.79      0.62      0.61      0.67      0.61      0.38       143\n",
      "\n"
     ]
    },
    {
     "data": {
      "image/png": "[encoded data removed]",
      "text/plain": [
       "<Figure size 800x500 with 2 Axes>"
      ]
     },
     "metadata": {},
     "output_type": "display_data"
    }
   ],
   "source": [
    "metrics_score(y_test,y_pred)\n"
   ]
  },
  {
   "cell_type": "code",
   "execution_count": 48,
   "id": "e8d03c2e",
   "metadata": {},
   "outputs": [],
   "source": [
    "# Train the data with EasyEnsembleClassifier\n",
    "eec_model = EasyEnsembleClassifier(n_estimators=100, random_state=1)\n",
    "eec_model = eec_model.fit(X_train, y_train)"
   ]
  },
  {
   "cell_type": "code",
   "execution_count": 49,
   "id": "7473582a",
   "metadata": {},
   "outputs": [
    {
     "data": {
      "text/plain": [
       "0.5760869565217391"
      ]
     },
     "execution_count": 49,
     "metadata": {},
     "output_type": "execute_result"
    }
   ],
   "source": [
    "# Calculated the balanced accuracy score\n",
    "y_pred_eec = eec_model.predict(X_test)\n",
    "balanced_accuracy_score(y_test, y_pred_eec)"
   ]
  },
  {
   "cell_type": "code",
   "execution_count": 50,
   "id": "c8464292",
   "metadata": {},
   "outputs": [
    {
     "data": {
      "text/plain": [
       "array([[60, 60],\n",
       "       [ 8, 15]], dtype=int64)"
      ]
     },
     "execution_count": 50,
     "metadata": {},
     "output_type": "execute_result"
    }
   ],
   "source": [
    "# Display the confusion matrix\n",
    "confusion_matrix(y_test, y_pred_eec)"
   ]
  },
  {
   "cell_type": "code",
   "execution_count": 51,
   "id": "3f16ed53",
   "metadata": {},
   "outputs": [
    {
     "name": "stdout",
     "output_type": "stream",
     "text": [
      "                   pre       rec       spe        f1       geo       iba       sup\n",
      "\n",
      "          0       0.88      0.50      0.65      0.64      0.57      0.32       120\n",
      "          1       0.20      0.65      0.50      0.31      0.57      0.33        23\n",
      "\n",
      "avg / total       0.77      0.52      0.63      0.58      0.57      0.32       143\n",
      "\n"
     ]
    }
   ],
   "source": [
    "# Print the imbalanced classification report\n",
    "print(classification_report_imbalanced(y_test, y_pred_eec))"
   ]
  },
  {
   "cell_type": "code",
   "execution_count": 52,
   "id": "437d846c",
   "metadata": {},
   "outputs": [
    {
     "name": "stdout",
     "output_type": "stream",
     "text": [
      "                   pre       rec       spe        f1       geo       iba       sup\n",
      "\n",
      "          0       0.88      0.50      0.65      0.64      0.57      0.32       120\n",
      "          1       0.20      0.65      0.50      0.31      0.57      0.33        23\n",
      "\n",
      "avg / total       0.77      0.52      0.63      0.58      0.57      0.32       143\n",
      "\n"
     ]
    },
    {
     "data": {
      "image/png": "[encoded data removed]",
      "text/plain": [
       "<Figure size 800x500 with 2 Axes>"
      ]
     },
     "metadata": {},
     "output_type": "display_data"
    }
   ],
   "source": [
    "metrics_score(y_test,y_pred_eec)"
   ]
  },
  {
   "cell_type": "code",
   "execution_count": 53,
   "id": "10f4fc8a",
   "metadata": {},
   "outputs": [
    {
     "data": {
      "text/plain": [
       "Counter({0: 192, 1: 287})"
      ]
     },
     "execution_count": 53,
     "metadata": {},
     "output_type": "execute_result"
    }
   ],
   "source": [
    "# Resample the training data with SMOTEENN\n",
    "smote_enn = SMOTEENN(random_state=1)\n",
    "X_resampled4, y_resampled4 = smote_enn.fit_resample(X, y)\n",
    "Counter(y_resampled4)"
   ]
  },
  {
   "cell_type": "code",
   "execution_count": 54,
   "id": "9324ca54",
   "metadata": {},
   "outputs": [
    {
     "name": "stderr",
     "output_type": "stream",
     "text": [
      "C:\\Users\\shef1\\anaconda3\\envs\\PythonData\\lib\\site-packages\\sklearn\\linear_model\\_logistic.py:818: ConvergenceWarning: lbfgs failed to converge (status=1):\n",
      "STOP: TOTAL NO. of ITERATIONS REACHED LIMIT.\n",
      "\n",
      "Increase the number of iterations (max_iter) or scale the data as shown in:\n",
      "    https://scikit-learn.org/stable/modules/preprocessing.html\n",
      "Please also refer to the documentation for alternative solver options:\n",
      "    https://scikit-learn.org/stable/modules/linear_model.html#logistic-regression\n",
      "  extra_warning_msg=_LOGISTIC_SOLVER_CONVERGENCE_MSG,\n"
     ]
    },
    {
     "data": {
      "text/plain": [
       "LogisticRegression(random_state=1)"
      ]
     },
     "execution_count": 54,
     "metadata": {},
     "output_type": "execute_result"
    }
   ],
   "source": [
    "# Train the Logistic Regression model using the resampled data\n",
    "com_model = LogisticRegression(solver='lbfgs', random_state=1)\n",
    "com_model.fit(X_resampled4, y_resampled4)"
   ]
  },
  {
   "cell_type": "code",
   "execution_count": 55,
   "id": "14069a65",
   "metadata": {},
   "outputs": [
    {
     "data": {
      "text/plain": [
       "0.6085144927536232"
      ]
     },
     "execution_count": 55,
     "metadata": {},
     "output_type": "execute_result"
    }
   ],
   "source": [
    "# Calculated the balanced accuracy score\n",
    "y_pred4 = com_model.predict(X_test)\n",
    "balanced_accuracy_score(y_test, y_pred4)"
   ]
  },
  {
   "cell_type": "code",
   "execution_count": 56,
   "id": "69b3157c",
   "metadata": {},
   "outputs": [
    {
     "data": {
      "text/plain": [
       "array([[73, 47],\n",
       "       [ 9, 14]], dtype=int64)"
      ]
     },
     "execution_count": 56,
     "metadata": {},
     "output_type": "execute_result"
    }
   ],
   "source": [
    "# Display the confusion matrix\n",
    "confusion_matrix(y_test, y_pred4)"
   ]
  },
  {
   "cell_type": "code",
   "execution_count": 57,
   "id": "5574c1a7",
   "metadata": {},
   "outputs": [
    {
     "name": "stdout",
     "output_type": "stream",
     "text": [
      "                   pre       rec       spe        f1       geo       iba       sup\n",
      "\n",
      "          0       0.89      0.61      0.61      0.72      0.61      0.37       120\n",
      "          1       0.23      0.61      0.61      0.33      0.61      0.37        23\n",
      "\n",
      "avg / total       0.78      0.61      0.61      0.66      0.61      0.37       143\n",
      "\n"
     ]
    }
   ],
   "source": [
    "# Print the imbalanced classification report\n",
    "print(classification_report_imbalanced(y_test, y_pred4))"
   ]
  },
  {
   "cell_type": "code",
   "execution_count": 58,
   "id": "b1d6b9fe",
   "metadata": {},
   "outputs": [
    {
     "name": "stdout",
     "output_type": "stream",
     "text": [
      "                   pre       rec       spe        f1       geo       iba       sup\n",
      "\n",
      "          0       0.89      0.61      0.61      0.72      0.61      0.37       120\n",
      "          1       0.23      0.61      0.61      0.33      0.61      0.37        23\n",
      "\n",
      "avg / total       0.78      0.61      0.61      0.66      0.61      0.37       143\n",
      "\n"
     ]
    },
    {
     "data": {
      "image/png": "[encoded data removed]",
      "text/plain": [
       "<Figure size 800x500 with 2 Axes>"
      ]
     },
     "metadata": {},
     "output_type": "display_data"
    }
   ],
   "source": [
    "metrics_score(y_test,y_pred4)"
   ]
  },
  {
   "cell_type": "code",
   "execution_count": null,
   "id": "41509ae6",
   "metadata": {},
   "outputs": [],
   "source": []
  },
  {
   "cell_type": "code",
   "execution_count": null,
   "id": "3db41cab",
   "metadata": {},
   "outputs": [],
   "source": []
  }
 ],
 "metadata": {
  "kernelspec": {
   "display_name": "Python 3 (ipykernel)",
   "language": "python",
   "name": "python3"
  },
  "language_info": {
   "codemirror_mode": {
    "name": "ipython",
    "version": 3
   },
   "file_extension": ".py",
   "mimetype": "text/x-python",
   "name": "python",
   "nbconvert_exporter": "python",
   "pygments_lexer": "ipython3",
   "version": "3.7.13"
  }
 },
 "nbformat": 4,
 "nbformat_minor": 5
}
